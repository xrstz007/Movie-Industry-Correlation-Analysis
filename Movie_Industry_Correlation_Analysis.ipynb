{
 "cells": [
  {
   "cell_type": "code",
   "execution_count": 1,
   "id": "70ee54f5",
   "metadata": {},
   "outputs": [],
   "source": [
    "import pandas as pd\n",
    "import seaborn as sns\n",
    "import matplotlib.pyplot as plt\n",
    "import numpy as np\n",
    "import re"
   ]
  },
  {
   "cell_type": "markdown",
   "id": "8660421e",
   "metadata": {},
   "source": [
    "load the data"
   ]
  },
  {
   "cell_type": "code",
   "execution_count": 2,
   "id": "027af0fb",
   "metadata": {},
   "outputs": [
    {
     "data": {
      "text/html": [
       "<div>\n",
       "<style scoped>\n",
       "    .dataframe tbody tr th:only-of-type {\n",
       "        vertical-align: middle;\n",
       "    }\n",
       "\n",
       "    .dataframe tbody tr th {\n",
       "        vertical-align: top;\n",
       "    }\n",
       "\n",
       "    .dataframe thead th {\n",
       "        text-align: right;\n",
       "    }\n",
       "</style>\n",
       "<table border=\"1\" class=\"dataframe\">\n",
       "  <thead>\n",
       "    <tr style=\"text-align: right;\">\n",
       "      <th></th>\n",
       "      <th>name</th>\n",
       "      <th>rating</th>\n",
       "      <th>genre</th>\n",
       "      <th>year</th>\n",
       "      <th>released</th>\n",
       "      <th>score</th>\n",
       "      <th>votes</th>\n",
       "      <th>director</th>\n",
       "      <th>writer</th>\n",
       "      <th>star</th>\n",
       "      <th>country</th>\n",
       "      <th>budget</th>\n",
       "      <th>gross</th>\n",
       "      <th>company</th>\n",
       "      <th>runtime</th>\n",
       "    </tr>\n",
       "  </thead>\n",
       "  <tbody>\n",
       "    <tr>\n",
       "      <th>0</th>\n",
       "      <td>The Shining</td>\n",
       "      <td>R</td>\n",
       "      <td>Drama</td>\n",
       "      <td>1980</td>\n",
       "      <td>June 13, 1980 (United States)</td>\n",
       "      <td>8.4</td>\n",
       "      <td>927000.0</td>\n",
       "      <td>Stanley Kubrick</td>\n",
       "      <td>Stephen King</td>\n",
       "      <td>Jack Nicholson</td>\n",
       "      <td>United Kingdom</td>\n",
       "      <td>19000000.0</td>\n",
       "      <td>46998772.0</td>\n",
       "      <td>Warner Bros.</td>\n",
       "      <td>146.0</td>\n",
       "    </tr>\n",
       "    <tr>\n",
       "      <th>1</th>\n",
       "      <td>The Blue Lagoon</td>\n",
       "      <td>R</td>\n",
       "      <td>Adventure</td>\n",
       "      <td>1980</td>\n",
       "      <td>July 2, 1980 (United States)</td>\n",
       "      <td>5.8</td>\n",
       "      <td>65000.0</td>\n",
       "      <td>Randal Kleiser</td>\n",
       "      <td>Henry De Vere Stacpoole</td>\n",
       "      <td>Brooke Shields</td>\n",
       "      <td>United States</td>\n",
       "      <td>4500000.0</td>\n",
       "      <td>58853106.0</td>\n",
       "      <td>Columbia Pictures</td>\n",
       "      <td>104.0</td>\n",
       "    </tr>\n",
       "    <tr>\n",
       "      <th>2</th>\n",
       "      <td>Star Wars: Episode V - The Empire Strikes Back</td>\n",
       "      <td>PG</td>\n",
       "      <td>Action</td>\n",
       "      <td>1980</td>\n",
       "      <td>June 20, 1980 (United States)</td>\n",
       "      <td>8.7</td>\n",
       "      <td>1200000.0</td>\n",
       "      <td>Irvin Kershner</td>\n",
       "      <td>Leigh Brackett</td>\n",
       "      <td>Mark Hamill</td>\n",
       "      <td>United States</td>\n",
       "      <td>18000000.0</td>\n",
       "      <td>538375067.0</td>\n",
       "      <td>Lucasfilm</td>\n",
       "      <td>124.0</td>\n",
       "    </tr>\n",
       "    <tr>\n",
       "      <th>3</th>\n",
       "      <td>Airplane!</td>\n",
       "      <td>PG</td>\n",
       "      <td>Comedy</td>\n",
       "      <td>1980</td>\n",
       "      <td>July 2, 1980 (United States)</td>\n",
       "      <td>7.7</td>\n",
       "      <td>221000.0</td>\n",
       "      <td>Jim Abrahams</td>\n",
       "      <td>Jim Abrahams</td>\n",
       "      <td>Robert Hays</td>\n",
       "      <td>United States</td>\n",
       "      <td>3500000.0</td>\n",
       "      <td>83453539.0</td>\n",
       "      <td>Paramount Pictures</td>\n",
       "      <td>88.0</td>\n",
       "    </tr>\n",
       "    <tr>\n",
       "      <th>4</th>\n",
       "      <td>Caddyshack</td>\n",
       "      <td>R</td>\n",
       "      <td>Comedy</td>\n",
       "      <td>1980</td>\n",
       "      <td>July 25, 1980 (United States)</td>\n",
       "      <td>7.3</td>\n",
       "      <td>108000.0</td>\n",
       "      <td>Harold Ramis</td>\n",
       "      <td>Brian Doyle-Murray</td>\n",
       "      <td>Chevy Chase</td>\n",
       "      <td>United States</td>\n",
       "      <td>6000000.0</td>\n",
       "      <td>39846344.0</td>\n",
       "      <td>Orion Pictures</td>\n",
       "      <td>98.0</td>\n",
       "    </tr>\n",
       "  </tbody>\n",
       "</table>\n",
       "</div>"
      ],
      "text/plain": [
       "                                             name rating      genre  year  \\\n",
       "0                                     The Shining      R      Drama  1980   \n",
       "1                                 The Blue Lagoon      R  Adventure  1980   \n",
       "2  Star Wars: Episode V - The Empire Strikes Back     PG     Action  1980   \n",
       "3                                       Airplane!     PG     Comedy  1980   \n",
       "4                                      Caddyshack      R     Comedy  1980   \n",
       "\n",
       "                        released  score      votes         director  \\\n",
       "0  June 13, 1980 (United States)    8.4   927000.0  Stanley Kubrick   \n",
       "1   July 2, 1980 (United States)    5.8    65000.0   Randal Kleiser   \n",
       "2  June 20, 1980 (United States)    8.7  1200000.0   Irvin Kershner   \n",
       "3   July 2, 1980 (United States)    7.7   221000.0     Jim Abrahams   \n",
       "4  July 25, 1980 (United States)    7.3   108000.0     Harold Ramis   \n",
       "\n",
       "                    writer            star         country      budget  \\\n",
       "0             Stephen King  Jack Nicholson  United Kingdom  19000000.0   \n",
       "1  Henry De Vere Stacpoole  Brooke Shields   United States   4500000.0   \n",
       "2           Leigh Brackett     Mark Hamill   United States  18000000.0   \n",
       "3             Jim Abrahams     Robert Hays   United States   3500000.0   \n",
       "4       Brian Doyle-Murray     Chevy Chase   United States   6000000.0   \n",
       "\n",
       "         gross             company  runtime  \n",
       "0   46998772.0        Warner Bros.    146.0  \n",
       "1   58853106.0   Columbia Pictures    104.0  \n",
       "2  538375067.0           Lucasfilm    124.0  \n",
       "3   83453539.0  Paramount Pictures     88.0  \n",
       "4   39846344.0      Orion Pictures     98.0  "
      ]
     },
     "execution_count": 2,
     "metadata": {},
     "output_type": "execute_result"
    }
   ],
   "source": [
    "df = pd.read_csv('movies.csv')\n",
    "df.head()"
   ]
  },
  {
   "cell_type": "code",
   "execution_count": 3,
   "id": "89a44c4f",
   "metadata": {},
   "outputs": [],
   "source": [
    "pd.set_option('display.max_rows', None)"
   ]
  },
  {
   "cell_type": "code",
   "execution_count": 4,
   "id": "9070667f",
   "metadata": {},
   "outputs": [
    {
     "name": "stdout",
     "output_type": "stream",
     "text": [
      "<class 'pandas.core.frame.DataFrame'>\n",
      "RangeIndex: 7668 entries, 0 to 7667\n",
      "Data columns (total 15 columns):\n",
      " #   Column    Non-Null Count  Dtype  \n",
      "---  ------    --------------  -----  \n",
      " 0   name      7668 non-null   object \n",
      " 1   rating    7591 non-null   object \n",
      " 2   genre     7668 non-null   object \n",
      " 3   year      7668 non-null   int64  \n",
      " 4   released  7666 non-null   object \n",
      " 5   score     7665 non-null   float64\n",
      " 6   votes     7665 non-null   float64\n",
      " 7   director  7668 non-null   object \n",
      " 8   writer    7665 non-null   object \n",
      " 9   star      7667 non-null   object \n",
      " 10  country   7665 non-null   object \n",
      " 11  budget    5497 non-null   float64\n",
      " 12  gross     7479 non-null   float64\n",
      " 13  company   7651 non-null   object \n",
      " 14  runtime   7664 non-null   float64\n",
      "dtypes: float64(5), int64(1), object(9)\n",
      "memory usage: 898.7+ KB\n"
     ]
    }
   ],
   "source": [
    "df.info()"
   ]
  },
  {
   "cell_type": "code",
   "execution_count": 5,
   "id": "057c9e33",
   "metadata": {},
   "outputs": [
    {
     "data": {
      "text/html": [
       "<div>\n",
       "<style scoped>\n",
       "    .dataframe tbody tr th:only-of-type {\n",
       "        vertical-align: middle;\n",
       "    }\n",
       "\n",
       "    .dataframe tbody tr th {\n",
       "        vertical-align: top;\n",
       "    }\n",
       "\n",
       "    .dataframe thead th {\n",
       "        text-align: right;\n",
       "    }\n",
       "</style>\n",
       "<table border=\"1\" class=\"dataframe\">\n",
       "  <thead>\n",
       "    <tr style=\"text-align: right;\">\n",
       "      <th></th>\n",
       "      <th>year</th>\n",
       "      <th>score</th>\n",
       "      <th>votes</th>\n",
       "      <th>budget</th>\n",
       "      <th>gross</th>\n",
       "      <th>runtime</th>\n",
       "    </tr>\n",
       "  </thead>\n",
       "  <tbody>\n",
       "    <tr>\n",
       "      <th>count</th>\n",
       "      <td>7668.000000</td>\n",
       "      <td>7665.000000</td>\n",
       "      <td>7.665000e+03</td>\n",
       "      <td>5.497000e+03</td>\n",
       "      <td>7.479000e+03</td>\n",
       "      <td>7664.000000</td>\n",
       "    </tr>\n",
       "    <tr>\n",
       "      <th>mean</th>\n",
       "      <td>2000.405451</td>\n",
       "      <td>6.390411</td>\n",
       "      <td>8.810850e+04</td>\n",
       "      <td>3.558988e+07</td>\n",
       "      <td>7.850054e+07</td>\n",
       "      <td>107.261613</td>\n",
       "    </tr>\n",
       "    <tr>\n",
       "      <th>std</th>\n",
       "      <td>11.153508</td>\n",
       "      <td>0.968842</td>\n",
       "      <td>1.633238e+05</td>\n",
       "      <td>4.145730e+07</td>\n",
       "      <td>1.657251e+08</td>\n",
       "      <td>18.581247</td>\n",
       "    </tr>\n",
       "    <tr>\n",
       "      <th>min</th>\n",
       "      <td>1980.000000</td>\n",
       "      <td>1.900000</td>\n",
       "      <td>7.000000e+00</td>\n",
       "      <td>3.000000e+03</td>\n",
       "      <td>3.090000e+02</td>\n",
       "      <td>55.000000</td>\n",
       "    </tr>\n",
       "    <tr>\n",
       "      <th>25%</th>\n",
       "      <td>1991.000000</td>\n",
       "      <td>5.800000</td>\n",
       "      <td>9.100000e+03</td>\n",
       "      <td>1.000000e+07</td>\n",
       "      <td>4.532056e+06</td>\n",
       "      <td>95.000000</td>\n",
       "    </tr>\n",
       "    <tr>\n",
       "      <th>50%</th>\n",
       "      <td>2000.000000</td>\n",
       "      <td>6.500000</td>\n",
       "      <td>3.300000e+04</td>\n",
       "      <td>2.050000e+07</td>\n",
       "      <td>2.020576e+07</td>\n",
       "      <td>104.000000</td>\n",
       "    </tr>\n",
       "    <tr>\n",
       "      <th>75%</th>\n",
       "      <td>2010.000000</td>\n",
       "      <td>7.100000</td>\n",
       "      <td>9.300000e+04</td>\n",
       "      <td>4.500000e+07</td>\n",
       "      <td>7.601669e+07</td>\n",
       "      <td>116.000000</td>\n",
       "    </tr>\n",
       "    <tr>\n",
       "      <th>max</th>\n",
       "      <td>2020.000000</td>\n",
       "      <td>9.300000</td>\n",
       "      <td>2.400000e+06</td>\n",
       "      <td>3.560000e+08</td>\n",
       "      <td>2.847246e+09</td>\n",
       "      <td>366.000000</td>\n",
       "    </tr>\n",
       "  </tbody>\n",
       "</table>\n",
       "</div>"
      ],
      "text/plain": [
       "              year        score         votes        budget         gross  \\\n",
       "count  7668.000000  7665.000000  7.665000e+03  5.497000e+03  7.479000e+03   \n",
       "mean   2000.405451     6.390411  8.810850e+04  3.558988e+07  7.850054e+07   \n",
       "std      11.153508     0.968842  1.633238e+05  4.145730e+07  1.657251e+08   \n",
       "min    1980.000000     1.900000  7.000000e+00  3.000000e+03  3.090000e+02   \n",
       "25%    1991.000000     5.800000  9.100000e+03  1.000000e+07  4.532056e+06   \n",
       "50%    2000.000000     6.500000  3.300000e+04  2.050000e+07  2.020576e+07   \n",
       "75%    2010.000000     7.100000  9.300000e+04  4.500000e+07  7.601669e+07   \n",
       "max    2020.000000     9.300000  2.400000e+06  3.560000e+08  2.847246e+09   \n",
       "\n",
       "           runtime  \n",
       "count  7664.000000  \n",
       "mean    107.261613  \n",
       "std      18.581247  \n",
       "min      55.000000  \n",
       "25%      95.000000  \n",
       "50%     104.000000  \n",
       "75%     116.000000  \n",
       "max     366.000000  "
      ]
     },
     "execution_count": 5,
     "metadata": {},
     "output_type": "execute_result"
    }
   ],
   "source": [
    "df.describe()"
   ]
  },
  {
   "cell_type": "markdown",
   "id": "d141acf6",
   "metadata": {},
   "source": [
    "## Cleaning"
   ]
  },
  {
   "cell_type": "markdown",
   "id": "b7ada812",
   "metadata": {},
   "source": [
    "Check for mising data"
   ]
  },
  {
   "cell_type": "code",
   "execution_count": 6,
   "id": "2ff6a903",
   "metadata": {},
   "outputs": [
    {
     "data": {
      "text/plain": [
       "Index(['name', 'rating', 'genre', 'year', 'released', 'score', 'votes',\n",
       "       'director', 'writer', 'star', 'country', 'budget', 'gross', 'company',\n",
       "       'runtime'],\n",
       "      dtype='object')"
      ]
     },
     "execution_count": 6,
     "metadata": {},
     "output_type": "execute_result"
    }
   ],
   "source": [
    "df.columns"
   ]
  },
  {
   "cell_type": "code",
   "execution_count": 7,
   "id": "9a3f9fdc",
   "metadata": {},
   "outputs": [
    {
     "name": "stdout",
     "output_type": "stream",
     "text": [
      "name = 0.0%\n",
      "rating = 0.010041731872717789%\n",
      "genre = 0.0%\n",
      "year = 0.0%\n",
      "released = 0.0002608242044861763%\n",
      "score = 0.0003912363067292645%\n",
      "votes = 0.0003912363067292645%\n",
      "director = 0.0%\n",
      "writer = 0.0003912363067292645%\n",
      "star = 0.00013041210224308815%\n",
      "country = 0.0003912363067292645%\n",
      "budget = 0.2831246739697444%\n",
      "gross = 0.02464788732394366%\n",
      "company = 0.002217005738132499%\n",
      "runtime = 0.0005216484089723526%\n"
     ]
    }
   ],
   "source": [
    "for col in df.columns:\n",
    "    pct = np.mean(df[col].isnull())\n",
    "    print('{} = {}%'.format(col, pct))"
   ]
  },
  {
   "cell_type": "markdown",
   "id": "1dc355ba",
   "metadata": {},
   "source": [
    "Since there low percentages of missing values, these missing values can be dropped without having a significant impact on the analysis."
   ]
  },
  {
   "cell_type": "code",
   "execution_count": 8,
   "id": "007e76f2",
   "metadata": {},
   "outputs": [
    {
     "name": "stdout",
     "output_type": "stream",
     "text": [
      "<class 'pandas.core.frame.DataFrame'>\n",
      "Int64Index: 5421 entries, 0 to 7652\n",
      "Data columns (total 15 columns):\n",
      " #   Column    Non-Null Count  Dtype  \n",
      "---  ------    --------------  -----  \n",
      " 0   name      5421 non-null   object \n",
      " 1   rating    5421 non-null   object \n",
      " 2   genre     5421 non-null   object \n",
      " 3   year      5421 non-null   int64  \n",
      " 4   released  5421 non-null   object \n",
      " 5   score     5421 non-null   float64\n",
      " 6   votes     5421 non-null   float64\n",
      " 7   director  5421 non-null   object \n",
      " 8   writer    5421 non-null   object \n",
      " 9   star      5421 non-null   object \n",
      " 10  country   5421 non-null   object \n",
      " 11  budget    5421 non-null   float64\n",
      " 12  gross     5421 non-null   float64\n",
      " 13  company   5421 non-null   object \n",
      " 14  runtime   5421 non-null   float64\n",
      "dtypes: float64(5), int64(1), object(9)\n",
      "memory usage: 677.6+ KB\n"
     ]
    }
   ],
   "source": [
    "df = df.dropna()\n",
    "df.info()"
   ]
  },
  {
   "cell_type": "markdown",
   "id": "ac926a7f",
   "metadata": {},
   "source": [
    "Check for datatypes"
   ]
  },
  {
   "cell_type": "code",
   "execution_count": 9,
   "id": "4bd21e94",
   "metadata": {},
   "outputs": [
    {
     "data": {
      "text/plain": [
       "name         object\n",
       "rating       object\n",
       "genre        object\n",
       "year          int64\n",
       "released     object\n",
       "score       float64\n",
       "votes       float64\n",
       "director     object\n",
       "writer       object\n",
       "star         object\n",
       "country      object\n",
       "budget      float64\n",
       "gross       float64\n",
       "company      object\n",
       "runtime     float64\n",
       "dtype: object"
      ]
     },
     "execution_count": 9,
     "metadata": {},
     "output_type": "execute_result"
    }
   ],
   "source": [
    "df.dtypes"
   ]
  },
  {
   "cell_type": "code",
   "execution_count": 10,
   "id": "10831ab7",
   "metadata": {},
   "outputs": [],
   "source": [
    "#change datatypes\n",
    "df.budget = df['budget'].astype('int64')\n",
    "df.gross = df['gross'].astype('int64')\n",
    "df.votes = df['votes'].astype('int64')\n",
    "df.runtime = df['runtime'].astype('int64')"
   ]
  },
  {
   "cell_type": "code",
   "execution_count": 11,
   "id": "a22b1067",
   "metadata": {},
   "outputs": [
    {
     "data": {
      "text/html": [
       "<div>\n",
       "<style scoped>\n",
       "    .dataframe tbody tr th:only-of-type {\n",
       "        vertical-align: middle;\n",
       "    }\n",
       "\n",
       "    .dataframe tbody tr th {\n",
       "        vertical-align: top;\n",
       "    }\n",
       "\n",
       "    .dataframe thead th {\n",
       "        text-align: right;\n",
       "    }\n",
       "</style>\n",
       "<table border=\"1\" class=\"dataframe\">\n",
       "  <thead>\n",
       "    <tr style=\"text-align: right;\">\n",
       "      <th></th>\n",
       "      <th>name</th>\n",
       "      <th>rating</th>\n",
       "      <th>genre</th>\n",
       "      <th>year</th>\n",
       "      <th>released</th>\n",
       "      <th>score</th>\n",
       "      <th>votes</th>\n",
       "      <th>director</th>\n",
       "      <th>writer</th>\n",
       "      <th>star</th>\n",
       "      <th>country</th>\n",
       "      <th>budget</th>\n",
       "      <th>gross</th>\n",
       "      <th>company</th>\n",
       "      <th>runtime</th>\n",
       "    </tr>\n",
       "  </thead>\n",
       "  <tbody>\n",
       "    <tr>\n",
       "      <th>0</th>\n",
       "      <td>The Shining</td>\n",
       "      <td>R</td>\n",
       "      <td>Drama</td>\n",
       "      <td>1980</td>\n",
       "      <td>June 13, 1980 (United States)</td>\n",
       "      <td>8.4</td>\n",
       "      <td>927000</td>\n",
       "      <td>Stanley Kubrick</td>\n",
       "      <td>Stephen King</td>\n",
       "      <td>Jack Nicholson</td>\n",
       "      <td>United Kingdom</td>\n",
       "      <td>19000000</td>\n",
       "      <td>46998772</td>\n",
       "      <td>Warner Bros.</td>\n",
       "      <td>146</td>\n",
       "    </tr>\n",
       "    <tr>\n",
       "      <th>1</th>\n",
       "      <td>The Blue Lagoon</td>\n",
       "      <td>R</td>\n",
       "      <td>Adventure</td>\n",
       "      <td>1980</td>\n",
       "      <td>July 2, 1980 (United States)</td>\n",
       "      <td>5.8</td>\n",
       "      <td>65000</td>\n",
       "      <td>Randal Kleiser</td>\n",
       "      <td>Henry De Vere Stacpoole</td>\n",
       "      <td>Brooke Shields</td>\n",
       "      <td>United States</td>\n",
       "      <td>4500000</td>\n",
       "      <td>58853106</td>\n",
       "      <td>Columbia Pictures</td>\n",
       "      <td>104</td>\n",
       "    </tr>\n",
       "  </tbody>\n",
       "</table>\n",
       "</div>"
      ],
      "text/plain": [
       "              name rating      genre  year                       released  \\\n",
       "0      The Shining      R      Drama  1980  June 13, 1980 (United States)   \n",
       "1  The Blue Lagoon      R  Adventure  1980   July 2, 1980 (United States)   \n",
       "\n",
       "   score   votes         director                   writer            star  \\\n",
       "0    8.4  927000  Stanley Kubrick             Stephen King  Jack Nicholson   \n",
       "1    5.8   65000   Randal Kleiser  Henry De Vere Stacpoole  Brooke Shields   \n",
       "\n",
       "          country    budget     gross            company  runtime  \n",
       "0  United Kingdom  19000000  46998772       Warner Bros.      146  \n",
       "1   United States   4500000  58853106  Columbia Pictures      104  "
      ]
     },
     "execution_count": 11,
     "metadata": {},
     "output_type": "execute_result"
    }
   ],
   "source": [
    "df.head(2)"
   ]
  },
  {
   "cell_type": "markdown",
   "id": "374b6f62",
   "metadata": {},
   "source": [
    "There are discrepancies between the year on the release column and the year column. To resolve this, split the released column and drop the year column."
   ]
  },
  {
   "cell_type": "code",
   "execution_count": 12,
   "id": "18868256",
   "metadata": {},
   "outputs": [],
   "source": [
    "year_split = lambda x: x.split(',')[-1]\n",
    "df['released_year'] = df['released'].apply(year_split).str[:5]"
   ]
  },
  {
   "cell_type": "code",
   "execution_count": 13,
   "id": "e375c1c1",
   "metadata": {},
   "outputs": [
    {
     "data": {
      "text/html": [
       "<div>\n",
       "<style scoped>\n",
       "    .dataframe tbody tr th:only-of-type {\n",
       "        vertical-align: middle;\n",
       "    }\n",
       "\n",
       "    .dataframe tbody tr th {\n",
       "        vertical-align: top;\n",
       "    }\n",
       "\n",
       "    .dataframe thead th {\n",
       "        text-align: right;\n",
       "    }\n",
       "</style>\n",
       "<table border=\"1\" class=\"dataframe\">\n",
       "  <thead>\n",
       "    <tr style=\"text-align: right;\">\n",
       "      <th></th>\n",
       "      <th>name</th>\n",
       "      <th>rating</th>\n",
       "      <th>genre</th>\n",
       "      <th>year</th>\n",
       "      <th>released</th>\n",
       "      <th>score</th>\n",
       "      <th>votes</th>\n",
       "      <th>director</th>\n",
       "      <th>writer</th>\n",
       "      <th>star</th>\n",
       "      <th>country</th>\n",
       "      <th>budget</th>\n",
       "      <th>gross</th>\n",
       "      <th>company</th>\n",
       "      <th>runtime</th>\n",
       "      <th>released_year</th>\n",
       "    </tr>\n",
       "  </thead>\n",
       "  <tbody>\n",
       "    <tr>\n",
       "      <th>0</th>\n",
       "      <td>The Shining</td>\n",
       "      <td>R</td>\n",
       "      <td>Drama</td>\n",
       "      <td>1980</td>\n",
       "      <td>June 13, 1980 (United States)</td>\n",
       "      <td>8.4</td>\n",
       "      <td>927000</td>\n",
       "      <td>Stanley Kubrick</td>\n",
       "      <td>Stephen King</td>\n",
       "      <td>Jack Nicholson</td>\n",
       "      <td>United Kingdom</td>\n",
       "      <td>19000000</td>\n",
       "      <td>46998772</td>\n",
       "      <td>Warner Bros.</td>\n",
       "      <td>146</td>\n",
       "      <td>1980</td>\n",
       "    </tr>\n",
       "    <tr>\n",
       "      <th>1</th>\n",
       "      <td>The Blue Lagoon</td>\n",
       "      <td>R</td>\n",
       "      <td>Adventure</td>\n",
       "      <td>1980</td>\n",
       "      <td>July 2, 1980 (United States)</td>\n",
       "      <td>5.8</td>\n",
       "      <td>65000</td>\n",
       "      <td>Randal Kleiser</td>\n",
       "      <td>Henry De Vere Stacpoole</td>\n",
       "      <td>Brooke Shields</td>\n",
       "      <td>United States</td>\n",
       "      <td>4500000</td>\n",
       "      <td>58853106</td>\n",
       "      <td>Columbia Pictures</td>\n",
       "      <td>104</td>\n",
       "      <td>1980</td>\n",
       "    </tr>\n",
       "  </tbody>\n",
       "</table>\n",
       "</div>"
      ],
      "text/plain": [
       "              name rating      genre  year                       released  \\\n",
       "0      The Shining      R      Drama  1980  June 13, 1980 (United States)   \n",
       "1  The Blue Lagoon      R  Adventure  1980   July 2, 1980 (United States)   \n",
       "\n",
       "   score   votes         director                   writer            star  \\\n",
       "0    8.4  927000  Stanley Kubrick             Stephen King  Jack Nicholson   \n",
       "1    5.8   65000   Randal Kleiser  Henry De Vere Stacpoole  Brooke Shields   \n",
       "\n",
       "          country    budget     gross            company  runtime  \\\n",
       "0  United Kingdom  19000000  46998772       Warner Bros.      146   \n",
       "1   United States   4500000  58853106  Columbia Pictures      104   \n",
       "\n",
       "  released_year  \n",
       "0          1980  \n",
       "1          1980  "
      ]
     },
     "execution_count": 13,
     "metadata": {},
     "output_type": "execute_result"
    }
   ],
   "source": [
    "df.head(2)"
   ]
  },
  {
   "cell_type": "code",
   "execution_count": 14,
   "id": "69eb7534",
   "metadata": {},
   "outputs": [
    {
     "data": {
      "text/html": [
       "<div>\n",
       "<style scoped>\n",
       "    .dataframe tbody tr th:only-of-type {\n",
       "        vertical-align: middle;\n",
       "    }\n",
       "\n",
       "    .dataframe tbody tr th {\n",
       "        vertical-align: top;\n",
       "    }\n",
       "\n",
       "    .dataframe thead th {\n",
       "        text-align: right;\n",
       "    }\n",
       "</style>\n",
       "<table border=\"1\" class=\"dataframe\">\n",
       "  <thead>\n",
       "    <tr style=\"text-align: right;\">\n",
       "      <th></th>\n",
       "      <th>name</th>\n",
       "      <th>rating</th>\n",
       "      <th>genre</th>\n",
       "      <th>score</th>\n",
       "      <th>votes</th>\n",
       "      <th>director</th>\n",
       "      <th>writer</th>\n",
       "      <th>star</th>\n",
       "      <th>country</th>\n",
       "      <th>budget</th>\n",
       "      <th>gross</th>\n",
       "      <th>company</th>\n",
       "      <th>runtime</th>\n",
       "      <th>released_year</th>\n",
       "    </tr>\n",
       "  </thead>\n",
       "  <tbody>\n",
       "    <tr>\n",
       "      <th>0</th>\n",
       "      <td>The Shining</td>\n",
       "      <td>R</td>\n",
       "      <td>Drama</td>\n",
       "      <td>8.4</td>\n",
       "      <td>927000</td>\n",
       "      <td>Stanley Kubrick</td>\n",
       "      <td>Stephen King</td>\n",
       "      <td>Jack Nicholson</td>\n",
       "      <td>United Kingdom</td>\n",
       "      <td>19000000</td>\n",
       "      <td>46998772</td>\n",
       "      <td>Warner Bros.</td>\n",
       "      <td>146</td>\n",
       "      <td>1980</td>\n",
       "    </tr>\n",
       "    <tr>\n",
       "      <th>1</th>\n",
       "      <td>The Blue Lagoon</td>\n",
       "      <td>R</td>\n",
       "      <td>Adventure</td>\n",
       "      <td>5.8</td>\n",
       "      <td>65000</td>\n",
       "      <td>Randal Kleiser</td>\n",
       "      <td>Henry De Vere Stacpoole</td>\n",
       "      <td>Brooke Shields</td>\n",
       "      <td>United States</td>\n",
       "      <td>4500000</td>\n",
       "      <td>58853106</td>\n",
       "      <td>Columbia Pictures</td>\n",
       "      <td>104</td>\n",
       "      <td>1980</td>\n",
       "    </tr>\n",
       "  </tbody>\n",
       "</table>\n",
       "</div>"
      ],
      "text/plain": [
       "              name rating      genre  score   votes         director  \\\n",
       "0      The Shining      R      Drama    8.4  927000  Stanley Kubrick   \n",
       "1  The Blue Lagoon      R  Adventure    5.8   65000   Randal Kleiser   \n",
       "\n",
       "                    writer            star         country    budget  \\\n",
       "0             Stephen King  Jack Nicholson  United Kingdom  19000000   \n",
       "1  Henry De Vere Stacpoole  Brooke Shields   United States   4500000   \n",
       "\n",
       "      gross            company  runtime released_year  \n",
       "0  46998772       Warner Bros.      146          1980  \n",
       "1  58853106  Columbia Pictures      104          1980  "
      ]
     },
     "execution_count": 14,
     "metadata": {},
     "output_type": "execute_result"
    }
   ],
   "source": [
    "df.columns\n",
    "df= df.drop(['year', 'released'], axis= 1)\n",
    "df.head(2)"
   ]
  },
  {
   "cell_type": "markdown",
   "id": "9789e23d",
   "metadata": {},
   "source": [
    "check for duplicates"
   ]
  },
  {
   "cell_type": "code",
   "execution_count": 15,
   "id": "6ce097d0",
   "metadata": {},
   "outputs": [
    {
     "data": {
      "text/plain": [
       "0"
      ]
     },
     "execution_count": 15,
     "metadata": {},
     "output_type": "execute_result"
    }
   ],
   "source": [
    "df.duplicated().sum()"
   ]
  },
  {
   "cell_type": "markdown",
   "id": "2b82e2f4",
   "metadata": {},
   "source": [
    "Add extra column to show if movie was profitable or not."
   ]
  },
  {
   "cell_type": "code",
   "execution_count": 16,
   "id": "6315a0dc",
   "metadata": {},
   "outputs": [],
   "source": [
    "profit = lambda row: 'Profitable' if row['budget'] < row['gross'] else 'Not Profitable'\n",
    "df['is_profitable'] = df.apply(profit, axis= 1)"
   ]
  },
  {
   "cell_type": "code",
   "execution_count": 17,
   "id": "949018fb",
   "metadata": {},
   "outputs": [
    {
     "data": {
      "text/html": [
       "<div>\n",
       "<style scoped>\n",
       "    .dataframe tbody tr th:only-of-type {\n",
       "        vertical-align: middle;\n",
       "    }\n",
       "\n",
       "    .dataframe tbody tr th {\n",
       "        vertical-align: top;\n",
       "    }\n",
       "\n",
       "    .dataframe thead th {\n",
       "        text-align: right;\n",
       "    }\n",
       "</style>\n",
       "<table border=\"1\" class=\"dataframe\">\n",
       "  <thead>\n",
       "    <tr style=\"text-align: right;\">\n",
       "      <th></th>\n",
       "      <th>name</th>\n",
       "      <th>rating</th>\n",
       "      <th>genre</th>\n",
       "      <th>score</th>\n",
       "      <th>votes</th>\n",
       "      <th>director</th>\n",
       "      <th>writer</th>\n",
       "      <th>star</th>\n",
       "      <th>country</th>\n",
       "      <th>budget</th>\n",
       "      <th>gross</th>\n",
       "      <th>company</th>\n",
       "      <th>runtime</th>\n",
       "      <th>released_year</th>\n",
       "      <th>is_profitable</th>\n",
       "    </tr>\n",
       "  </thead>\n",
       "  <tbody>\n",
       "    <tr>\n",
       "      <th>0</th>\n",
       "      <td>The Shining</td>\n",
       "      <td>R</td>\n",
       "      <td>Drama</td>\n",
       "      <td>8.4</td>\n",
       "      <td>927000</td>\n",
       "      <td>Stanley Kubrick</td>\n",
       "      <td>Stephen King</td>\n",
       "      <td>Jack Nicholson</td>\n",
       "      <td>United Kingdom</td>\n",
       "      <td>19000000</td>\n",
       "      <td>46998772</td>\n",
       "      <td>Warner Bros.</td>\n",
       "      <td>146</td>\n",
       "      <td>1980</td>\n",
       "      <td>Profitable</td>\n",
       "    </tr>\n",
       "    <tr>\n",
       "      <th>1</th>\n",
       "      <td>The Blue Lagoon</td>\n",
       "      <td>R</td>\n",
       "      <td>Adventure</td>\n",
       "      <td>5.8</td>\n",
       "      <td>65000</td>\n",
       "      <td>Randal Kleiser</td>\n",
       "      <td>Henry De Vere Stacpoole</td>\n",
       "      <td>Brooke Shields</td>\n",
       "      <td>United States</td>\n",
       "      <td>4500000</td>\n",
       "      <td>58853106</td>\n",
       "      <td>Columbia Pictures</td>\n",
       "      <td>104</td>\n",
       "      <td>1980</td>\n",
       "      <td>Profitable</td>\n",
       "    </tr>\n",
       "  </tbody>\n",
       "</table>\n",
       "</div>"
      ],
      "text/plain": [
       "              name rating      genre  score   votes         director  \\\n",
       "0      The Shining      R      Drama    8.4  927000  Stanley Kubrick   \n",
       "1  The Blue Lagoon      R  Adventure    5.8   65000   Randal Kleiser   \n",
       "\n",
       "                    writer            star         country    budget  \\\n",
       "0             Stephen King  Jack Nicholson  United Kingdom  19000000   \n",
       "1  Henry De Vere Stacpoole  Brooke Shields   United States   4500000   \n",
       "\n",
       "      gross            company  runtime released_year is_profitable  \n",
       "0  46998772       Warner Bros.      146          1980    Profitable  \n",
       "1  58853106  Columbia Pictures      104          1980    Profitable  "
      ]
     },
     "execution_count": 17,
     "metadata": {},
     "output_type": "execute_result"
    }
   ],
   "source": [
    "df.head(2)"
   ]
  },
  {
   "cell_type": "markdown",
   "id": "c9610469",
   "metadata": {},
   "source": [
    "Sort values"
   ]
  },
  {
   "cell_type": "code",
   "execution_count": 18,
   "id": "3235a00f",
   "metadata": {},
   "outputs": [],
   "source": [
    "df = df.sort_values(by= 'gross', ascending= False)"
   ]
  },
  {
   "cell_type": "code",
   "execution_count": 19,
   "id": "6890bc65",
   "metadata": {},
   "outputs": [
    {
     "data": {
      "text/html": [
       "<div>\n",
       "<style scoped>\n",
       "    .dataframe tbody tr th:only-of-type {\n",
       "        vertical-align: middle;\n",
       "    }\n",
       "\n",
       "    .dataframe tbody tr th {\n",
       "        vertical-align: top;\n",
       "    }\n",
       "\n",
       "    .dataframe thead th {\n",
       "        text-align: right;\n",
       "    }\n",
       "</style>\n",
       "<table border=\"1\" class=\"dataframe\">\n",
       "  <thead>\n",
       "    <tr style=\"text-align: right;\">\n",
       "      <th></th>\n",
       "      <th>name</th>\n",
       "      <th>rating</th>\n",
       "      <th>genre</th>\n",
       "      <th>score</th>\n",
       "      <th>votes</th>\n",
       "      <th>director</th>\n",
       "      <th>writer</th>\n",
       "      <th>star</th>\n",
       "      <th>country</th>\n",
       "      <th>budget</th>\n",
       "      <th>gross</th>\n",
       "      <th>company</th>\n",
       "      <th>runtime</th>\n",
       "      <th>released_year</th>\n",
       "      <th>is_profitable</th>\n",
       "    </tr>\n",
       "  </thead>\n",
       "  <tbody>\n",
       "    <tr>\n",
       "      <th>5445</th>\n",
       "      <td>Avatar</td>\n",
       "      <td>PG-13</td>\n",
       "      <td>Action</td>\n",
       "      <td>7.8</td>\n",
       "      <td>1100000</td>\n",
       "      <td>James Cameron</td>\n",
       "      <td>James Cameron</td>\n",
       "      <td>Sam Worthington</td>\n",
       "      <td>United States</td>\n",
       "      <td>237000000</td>\n",
       "      <td>2847246203</td>\n",
       "      <td>Twentieth Century Fox</td>\n",
       "      <td>162</td>\n",
       "      <td>2009</td>\n",
       "      <td>Profitable</td>\n",
       "    </tr>\n",
       "    <tr>\n",
       "      <th>7445</th>\n",
       "      <td>Avengers: Endgame</td>\n",
       "      <td>PG-13</td>\n",
       "      <td>Action</td>\n",
       "      <td>8.4</td>\n",
       "      <td>903000</td>\n",
       "      <td>Anthony Russo</td>\n",
       "      <td>Christopher Markus</td>\n",
       "      <td>Robert Downey Jr.</td>\n",
       "      <td>United States</td>\n",
       "      <td>356000000</td>\n",
       "      <td>2797501328</td>\n",
       "      <td>Marvel Studios</td>\n",
       "      <td>181</td>\n",
       "      <td>2019</td>\n",
       "      <td>Profitable</td>\n",
       "    </tr>\n",
       "    <tr>\n",
       "      <th>3045</th>\n",
       "      <td>Titanic</td>\n",
       "      <td>PG-13</td>\n",
       "      <td>Drama</td>\n",
       "      <td>7.8</td>\n",
       "      <td>1100000</td>\n",
       "      <td>James Cameron</td>\n",
       "      <td>James Cameron</td>\n",
       "      <td>Leonardo DiCaprio</td>\n",
       "      <td>United States</td>\n",
       "      <td>200000000</td>\n",
       "      <td>2201647264</td>\n",
       "      <td>Twentieth Century Fox</td>\n",
       "      <td>194</td>\n",
       "      <td>1997</td>\n",
       "      <td>Profitable</td>\n",
       "    </tr>\n",
       "    <tr>\n",
       "      <th>6663</th>\n",
       "      <td>Star Wars: Episode VII - The Force Awakens</td>\n",
       "      <td>PG-13</td>\n",
       "      <td>Action</td>\n",
       "      <td>7.8</td>\n",
       "      <td>876000</td>\n",
       "      <td>J.J. Abrams</td>\n",
       "      <td>Lawrence Kasdan</td>\n",
       "      <td>Daisy Ridley</td>\n",
       "      <td>United States</td>\n",
       "      <td>245000000</td>\n",
       "      <td>2069521700</td>\n",
       "      <td>Lucasfilm</td>\n",
       "      <td>138</td>\n",
       "      <td>2015</td>\n",
       "      <td>Profitable</td>\n",
       "    </tr>\n",
       "    <tr>\n",
       "      <th>7244</th>\n",
       "      <td>Avengers: Infinity War</td>\n",
       "      <td>PG-13</td>\n",
       "      <td>Action</td>\n",
       "      <td>8.4</td>\n",
       "      <td>897000</td>\n",
       "      <td>Anthony Russo</td>\n",
       "      <td>Christopher Markus</td>\n",
       "      <td>Robert Downey Jr.</td>\n",
       "      <td>United States</td>\n",
       "      <td>321000000</td>\n",
       "      <td>2048359754</td>\n",
       "      <td>Marvel Studios</td>\n",
       "      <td>149</td>\n",
       "      <td>2018</td>\n",
       "      <td>Profitable</td>\n",
       "    </tr>\n",
       "  </tbody>\n",
       "</table>\n",
       "</div>"
      ],
      "text/plain": [
       "                                            name rating   genre  score  \\\n",
       "5445                                      Avatar  PG-13  Action    7.8   \n",
       "7445                           Avengers: Endgame  PG-13  Action    8.4   \n",
       "3045                                     Titanic  PG-13   Drama    7.8   \n",
       "6663  Star Wars: Episode VII - The Force Awakens  PG-13  Action    7.8   \n",
       "7244                      Avengers: Infinity War  PG-13  Action    8.4   \n",
       "\n",
       "        votes       director              writer               star  \\\n",
       "5445  1100000  James Cameron       James Cameron    Sam Worthington   \n",
       "7445   903000  Anthony Russo  Christopher Markus  Robert Downey Jr.   \n",
       "3045  1100000  James Cameron       James Cameron  Leonardo DiCaprio   \n",
       "6663   876000    J.J. Abrams     Lawrence Kasdan       Daisy Ridley   \n",
       "7244   897000  Anthony Russo  Christopher Markus  Robert Downey Jr.   \n",
       "\n",
       "            country     budget       gross                company  runtime  \\\n",
       "5445  United States  237000000  2847246203  Twentieth Century Fox      162   \n",
       "7445  United States  356000000  2797501328         Marvel Studios      181   \n",
       "3045  United States  200000000  2201647264  Twentieth Century Fox      194   \n",
       "6663  United States  245000000  2069521700              Lucasfilm      138   \n",
       "7244  United States  321000000  2048359754         Marvel Studios      149   \n",
       "\n",
       "     released_year is_profitable  \n",
       "5445          2009    Profitable  \n",
       "7445          2019    Profitable  \n",
       "3045          1997    Profitable  \n",
       "6663          2015    Profitable  \n",
       "7244          2018    Profitable  "
      ]
     },
     "execution_count": 19,
     "metadata": {},
     "output_type": "execute_result"
    }
   ],
   "source": [
    "df.head(5)"
   ]
  },
  {
   "cell_type": "code",
   "execution_count": 20,
   "id": "dc0caf26",
   "metadata": {},
   "outputs": [
    {
     "data": {
      "text/plain": [
       "array([[<AxesSubplot:title={'center':'score'}>,\n",
       "        <AxesSubplot:title={'center':'votes'}>],\n",
       "       [<AxesSubplot:title={'center':'budget'}>,\n",
       "        <AxesSubplot:title={'center':'gross'}>],\n",
       "       [<AxesSubplot:title={'center':'runtime'}>, <AxesSubplot:>]],\n",
       "      dtype=object)"
      ]
     },
     "execution_count": 20,
     "metadata": {},
     "output_type": "execute_result"
    },
    {
     "data": {
      "image/png": "[encoded data removed]",
      "text/plain": [
       "<Figure size 432x288 with 6 Axes>"
      ]
     },
     "metadata": {
      "needs_background": "light"
     },
     "output_type": "display_data"
    }
   ],
   "source": [
    "df.hist()"
   ]
  },
  {
   "cell_type": "markdown",
   "id": "37829f14",
   "metadata": {},
   "source": [
    " ## Visualisations"
   ]
  },
  {
   "cell_type": "markdown",
   "id": "e9babf5b",
   "metadata": {},
   "source": [
    "The purpose of these visualisations is to show correlation between different factors such as budget, company, country, ratings, runtime, genre and the gross/profit of a movie."
   ]
  },
  {
   "cell_type": "code",
   "execution_count": 21,
   "id": "398ed25e",
   "metadata": {},
   "outputs": [
    {
     "data": {
      "text/html": [
       "<div>\n",
       "<style scoped>\n",
       "    .dataframe tbody tr th:only-of-type {\n",
       "        vertical-align: middle;\n",
       "    }\n",
       "\n",
       "    .dataframe tbody tr th {\n",
       "        vertical-align: top;\n",
       "    }\n",
       "\n",
       "    .dataframe thead th {\n",
       "        text-align: right;\n",
       "    }\n",
       "</style>\n",
       "<table border=\"1\" class=\"dataframe\">\n",
       "  <thead>\n",
       "    <tr style=\"text-align: right;\">\n",
       "      <th></th>\n",
       "      <th>score</th>\n",
       "      <th>votes</th>\n",
       "      <th>budget</th>\n",
       "      <th>gross</th>\n",
       "      <th>runtime</th>\n",
       "    </tr>\n",
       "  </thead>\n",
       "  <tbody>\n",
       "    <tr>\n",
       "      <th>score</th>\n",
       "      <td>1.000000</td>\n",
       "      <td>0.474256</td>\n",
       "      <td>0.072001</td>\n",
       "      <td>0.222556</td>\n",
       "      <td>0.414068</td>\n",
       "    </tr>\n",
       "    <tr>\n",
       "      <th>votes</th>\n",
       "      <td>0.474256</td>\n",
       "      <td>1.000000</td>\n",
       "      <td>0.439675</td>\n",
       "      <td>0.614751</td>\n",
       "      <td>0.352303</td>\n",
       "    </tr>\n",
       "    <tr>\n",
       "      <th>budget</th>\n",
       "      <td>0.072001</td>\n",
       "      <td>0.439675</td>\n",
       "      <td>1.000000</td>\n",
       "      <td>0.740247</td>\n",
       "      <td>0.318695</td>\n",
       "    </tr>\n",
       "    <tr>\n",
       "      <th>gross</th>\n",
       "      <td>0.222556</td>\n",
       "      <td>0.614751</td>\n",
       "      <td>0.740247</td>\n",
       "      <td>1.000000</td>\n",
       "      <td>0.275796</td>\n",
       "    </tr>\n",
       "    <tr>\n",
       "      <th>runtime</th>\n",
       "      <td>0.414068</td>\n",
       "      <td>0.352303</td>\n",
       "      <td>0.318695</td>\n",
       "      <td>0.275796</td>\n",
       "      <td>1.000000</td>\n",
       "    </tr>\n",
       "  </tbody>\n",
       "</table>\n",
       "</div>"
      ],
      "text/plain": [
       "            score     votes    budget     gross   runtime\n",
       "score    1.000000  0.474256  0.072001  0.222556  0.414068\n",
       "votes    0.474256  1.000000  0.439675  0.614751  0.352303\n",
       "budget   0.072001  0.439675  1.000000  0.740247  0.318695\n",
       "gross    0.222556  0.614751  0.740247  1.000000  0.275796\n",
       "runtime  0.414068  0.352303  0.318695  0.275796  1.000000"
      ]
     },
     "execution_count": 21,
     "metadata": {},
     "output_type": "execute_result"
    }
   ],
   "source": [
    "df.corr()"
   ]
  },
  {
   "cell_type": "code",
   "execution_count": 22,
   "id": "ff4a69b7",
   "metadata": {},
   "outputs": [
    {
     "data": {
      "image/png": "[encoded data removed]",
      "text/plain": [
       "<Figure size 864x432 with 2 Axes>"
      ]
     },
     "metadata": {
      "needs_background": "light"
     },
     "output_type": "display_data"
    }
   ],
   "source": [
    "#Visualise the correlation so as to know what to expect in the individual visualisations.\n",
    "def label(title, x, y):\n",
    "    plt.title(title)\n",
    "    plt.xlabel(x)\n",
    "    plt.ylabel(y)\n",
    "    plt.show()\n",
    "    \n",
    "correlation = df.corr()\n",
    "plt.figure(figsize= (12,6))\n",
    "sns.heatmap(correlation, annot = True)\n",
    "label('Visual Correlaion for Quantitative Variables', 'Quantitative Variables', 'Quantitative Variables')"
   ]
  },
  {
   "cell_type": "code",
   "execution_count": 23,
   "id": "df79b49f",
   "metadata": {},
   "outputs": [
    {
     "data": {
      "text/plain": [
       "score    score      1.000000\n",
       "         votes      0.474256\n",
       "         budget     0.072001\n",
       "         gross      0.222556\n",
       "         runtime    0.414068\n",
       "votes    score      0.474256\n",
       "         votes      1.000000\n",
       "         budget     0.439675\n",
       "         gross      0.614751\n",
       "         runtime    0.352303\n",
       "budget   score      0.072001\n",
       "         votes      0.439675\n",
       "         budget     1.000000\n",
       "         gross      0.740247\n",
       "         runtime    0.318695\n",
       "gross    score      0.222556\n",
       "         votes      0.614751\n",
       "         budget     0.740247\n",
       "         gross      1.000000\n",
       "         runtime    0.275796\n",
       "runtime  score      0.414068\n",
       "         votes      0.352303\n",
       "         budget     0.318695\n",
       "         gross      0.275796\n",
       "         runtime    1.000000\n",
       "dtype: float64"
      ]
     },
     "execution_count": 23,
     "metadata": {},
     "output_type": "execute_result"
    }
   ],
   "source": [
    "correlation_pairs = correlation.unstack()\n",
    "correlation_pairs"
   ]
  },
  {
   "cell_type": "code",
   "execution_count": 24,
   "id": "80386a32",
   "metadata": {},
   "outputs": [
    {
     "data": {
      "text/plain": [
       "gross    votes      0.614751\n",
       "votes    gross      0.614751\n",
       "budget   gross      0.740247\n",
       "gross    budget     0.740247\n",
       "score    score      1.000000\n",
       "budget   budget     1.000000\n",
       "votes    votes      1.000000\n",
       "gross    gross      1.000000\n",
       "runtime  runtime    1.000000\n",
       "dtype: float64"
      ]
     },
     "execution_count": 24,
     "metadata": {},
     "output_type": "execute_result"
    }
   ],
   "source": [
    "sorted_pairs = correlation_pairs.sort_values()\n",
    "high_correlation_pairs = sorted_pairs[sorted_pairs > 0.5]\n",
    "high_correlation_pairs"
   ]
  },
  {
   "cell_type": "markdown",
   "id": "e6b543d9",
   "metadata": {},
   "source": [
    "This shows that votes, movie budgets have high correlation with gross earnings."
   ]
  },
  {
   "cell_type": "markdown",
   "id": "b3cfe9a1",
   "metadata": {},
   "source": [
    "#### Correlation of Categorical Variables and Gross Earning"
   ]
  },
  {
   "cell_type": "code",
   "execution_count": 25,
   "id": "7915a9e6",
   "metadata": {},
   "outputs": [],
   "source": [
    "#Create a copy of the original dataframe\n",
    "df_copy = df.copy()"
   ]
  },
  {
   "cell_type": "code",
   "execution_count": 26,
   "id": "ac3af3db",
   "metadata": {},
   "outputs": [],
   "source": [
    "# Convert the categorical variables to categorical codes.\n",
    "for cols in df_copy.columns:\n",
    "    if df_copy[cols].dtype == 'object':\n",
    "        df_copy[cols] = df_copy[cols].astype('category')\n",
    "        df_copy[cols] = df_copy[cols].cat.codes"
   ]
  },
  {
   "cell_type": "code",
   "execution_count": 27,
   "id": "1208c018",
   "metadata": {
    "scrolled": true
   },
   "outputs": [
    {
     "data": {
      "text/html": [
       "<div>\n",
       "<style scoped>\n",
       "    .dataframe tbody tr th:only-of-type {\n",
       "        vertical-align: middle;\n",
       "    }\n",
       "\n",
       "    .dataframe tbody tr th {\n",
       "        vertical-align: top;\n",
       "    }\n",
       "\n",
       "    .dataframe thead th {\n",
       "        text-align: right;\n",
       "    }\n",
       "</style>\n",
       "<table border=\"1\" class=\"dataframe\">\n",
       "  <thead>\n",
       "    <tr style=\"text-align: right;\">\n",
       "      <th></th>\n",
       "      <th>name</th>\n",
       "      <th>rating</th>\n",
       "      <th>genre</th>\n",
       "      <th>score</th>\n",
       "      <th>votes</th>\n",
       "      <th>director</th>\n",
       "      <th>writer</th>\n",
       "      <th>star</th>\n",
       "      <th>country</th>\n",
       "      <th>budget</th>\n",
       "      <th>gross</th>\n",
       "      <th>company</th>\n",
       "      <th>runtime</th>\n",
       "      <th>released_year</th>\n",
       "      <th>is_profitable</th>\n",
       "    </tr>\n",
       "  </thead>\n",
       "  <tbody>\n",
       "    <tr>\n",
       "      <th>5445</th>\n",
       "      <td>386</td>\n",
       "      <td>5</td>\n",
       "      <td>0</td>\n",
       "      <td>7.8</td>\n",
       "      <td>1100000</td>\n",
       "      <td>785</td>\n",
       "      <td>1263</td>\n",
       "      <td>1534</td>\n",
       "      <td>47</td>\n",
       "      <td>237000000</td>\n",
       "      <td>2847246203</td>\n",
       "      <td>1382</td>\n",
       "      <td>162</td>\n",
       "      <td>29</td>\n",
       "      <td>1</td>\n",
       "    </tr>\n",
       "    <tr>\n",
       "      <th>7445</th>\n",
       "      <td>388</td>\n",
       "      <td>5</td>\n",
       "      <td>0</td>\n",
       "      <td>8.4</td>\n",
       "      <td>903000</td>\n",
       "      <td>105</td>\n",
       "      <td>513</td>\n",
       "      <td>1470</td>\n",
       "      <td>47</td>\n",
       "      <td>356000000</td>\n",
       "      <td>2797501328</td>\n",
       "      <td>983</td>\n",
       "      <td>181</td>\n",
       "      <td>39</td>\n",
       "      <td>1</td>\n",
       "    </tr>\n",
       "    <tr>\n",
       "      <th>3045</th>\n",
       "      <td>4909</td>\n",
       "      <td>5</td>\n",
       "      <td>6</td>\n",
       "      <td>7.8</td>\n",
       "      <td>1100000</td>\n",
       "      <td>785</td>\n",
       "      <td>1263</td>\n",
       "      <td>1073</td>\n",
       "      <td>47</td>\n",
       "      <td>200000000</td>\n",
       "      <td>2201647264</td>\n",
       "      <td>1382</td>\n",
       "      <td>194</td>\n",
       "      <td>17</td>\n",
       "      <td>1</td>\n",
       "    </tr>\n",
       "    <tr>\n",
       "      <th>6663</th>\n",
       "      <td>3643</td>\n",
       "      <td>5</td>\n",
       "      <td>0</td>\n",
       "      <td>7.8</td>\n",
       "      <td>876000</td>\n",
       "      <td>768</td>\n",
       "      <td>1806</td>\n",
       "      <td>356</td>\n",
       "      <td>47</td>\n",
       "      <td>245000000</td>\n",
       "      <td>2069521700</td>\n",
       "      <td>945</td>\n",
       "      <td>138</td>\n",
       "      <td>35</td>\n",
       "      <td>1</td>\n",
       "    </tr>\n",
       "    <tr>\n",
       "      <th>7244</th>\n",
       "      <td>389</td>\n",
       "      <td>5</td>\n",
       "      <td>0</td>\n",
       "      <td>8.4</td>\n",
       "      <td>897000</td>\n",
       "      <td>105</td>\n",
       "      <td>513</td>\n",
       "      <td>1470</td>\n",
       "      <td>47</td>\n",
       "      <td>321000000</td>\n",
       "      <td>2048359754</td>\n",
       "      <td>983</td>\n",
       "      <td>149</td>\n",
       "      <td>38</td>\n",
       "      <td>1</td>\n",
       "    </tr>\n",
       "  </tbody>\n",
       "</table>\n",
       "</div>"
      ],
      "text/plain": [
       "      name  rating  genre  score    votes  director  writer  star  country  \\\n",
       "5445   386       5      0    7.8  1100000       785    1263  1534       47   \n",
       "7445   388       5      0    8.4   903000       105     513  1470       47   \n",
       "3045  4909       5      6    7.8  1100000       785    1263  1073       47   \n",
       "6663  3643       5      0    7.8   876000       768    1806   356       47   \n",
       "7244   389       5      0    8.4   897000       105     513  1470       47   \n",
       "\n",
       "         budget       gross  company  runtime  released_year  is_profitable  \n",
       "5445  237000000  2847246203     1382      162             29              1  \n",
       "7445  356000000  2797501328      983      181             39              1  \n",
       "3045  200000000  2201647264     1382      194             17              1  \n",
       "6663  245000000  2069521700      945      138             35              1  \n",
       "7244  321000000  2048359754      983      149             38              1  "
      ]
     },
     "execution_count": 27,
     "metadata": {},
     "output_type": "execute_result"
    }
   ],
   "source": [
    "df_copy.head(5)"
   ]
  },
  {
   "cell_type": "code",
   "execution_count": 28,
   "id": "c30dd8d5",
   "metadata": {},
   "outputs": [],
   "source": [
    "# drop columns not needed for visualisation to prevent a cumbersome viz.\n",
    "drop_columns = []\n",
    "for columns in df_copy.columns:\n",
    "    if df[columns].dtype != 'object':\n",
    "        drop_columns.append(columns)\n",
    "drop_columns.remove('gross')\n",
    "df_copy= df_copy.drop(drop_columns, axis= 1)\n"
   ]
  },
  {
   "cell_type": "code",
   "execution_count": 29,
   "id": "efd48c88",
   "metadata": {},
   "outputs": [
    {
     "data": {
      "text/html": [
       "<div>\n",
       "<style scoped>\n",
       "    .dataframe tbody tr th:only-of-type {\n",
       "        vertical-align: middle;\n",
       "    }\n",
       "\n",
       "    .dataframe tbody tr th {\n",
       "        vertical-align: top;\n",
       "    }\n",
       "\n",
       "    .dataframe thead th {\n",
       "        text-align: right;\n",
       "    }\n",
       "</style>\n",
       "<table border=\"1\" class=\"dataframe\">\n",
       "  <thead>\n",
       "    <tr style=\"text-align: right;\">\n",
       "      <th></th>\n",
       "      <th>name</th>\n",
       "      <th>rating</th>\n",
       "      <th>genre</th>\n",
       "      <th>director</th>\n",
       "      <th>writer</th>\n",
       "      <th>star</th>\n",
       "      <th>country</th>\n",
       "      <th>gross</th>\n",
       "      <th>company</th>\n",
       "      <th>released_year</th>\n",
       "      <th>is_profitable</th>\n",
       "    </tr>\n",
       "  </thead>\n",
       "  <tbody>\n",
       "    <tr>\n",
       "      <th>name</th>\n",
       "      <td>1.000000</td>\n",
       "      <td>-0.029234</td>\n",
       "      <td>0.010996</td>\n",
       "      <td>0.015246</td>\n",
       "      <td>0.012880</td>\n",
       "      <td>-0.006882</td>\n",
       "      <td>-0.025490</td>\n",
       "      <td>0.005639</td>\n",
       "      <td>0.021697</td>\n",
       "      <td>0.023553</td>\n",
       "      <td>-0.015218</td>\n",
       "    </tr>\n",
       "    <tr>\n",
       "      <th>rating</th>\n",
       "      <td>-0.029234</td>\n",
       "      <td>1.000000</td>\n",
       "      <td>0.147796</td>\n",
       "      <td>0.014656</td>\n",
       "      <td>-0.003149</td>\n",
       "      <td>0.009196</td>\n",
       "      <td>0.008230</td>\n",
       "      <td>-0.181906</td>\n",
       "      <td>-0.092357</td>\n",
       "      <td>0.024610</td>\n",
       "      <td>-0.078201</td>\n",
       "    </tr>\n",
       "    <tr>\n",
       "      <th>genre</th>\n",
       "      <td>0.010996</td>\n",
       "      <td>0.147796</td>\n",
       "      <td>1.000000</td>\n",
       "      <td>-0.008553</td>\n",
       "      <td>0.017578</td>\n",
       "      <td>0.003341</td>\n",
       "      <td>-0.009164</td>\n",
       "      <td>-0.244101</td>\n",
       "      <td>-0.071334</td>\n",
       "      <td>-0.059834</td>\n",
       "      <td>-0.058020</td>\n",
       "    </tr>\n",
       "    <tr>\n",
       "      <th>director</th>\n",
       "      <td>0.015246</td>\n",
       "      <td>0.014656</td>\n",
       "      <td>-0.008553</td>\n",
       "      <td>1.000000</td>\n",
       "      <td>0.261735</td>\n",
       "      <td>0.036593</td>\n",
       "      <td>0.011133</td>\n",
       "      <td>-0.029560</td>\n",
       "      <td>-0.008223</td>\n",
       "      <td>-0.036288</td>\n",
       "      <td>-0.020452</td>\n",
       "    </tr>\n",
       "    <tr>\n",
       "      <th>writer</th>\n",
       "      <td>0.012880</td>\n",
       "      <td>-0.003149</td>\n",
       "      <td>0.017578</td>\n",
       "      <td>0.261735</td>\n",
       "      <td>1.000000</td>\n",
       "      <td>0.018520</td>\n",
       "      <td>0.022488</td>\n",
       "      <td>-0.035885</td>\n",
       "      <td>-0.003697</td>\n",
       "      <td>-0.024382</td>\n",
       "      <td>-0.010621</td>\n",
       "    </tr>\n",
       "    <tr>\n",
       "      <th>star</th>\n",
       "      <td>-0.006882</td>\n",
       "      <td>0.009196</td>\n",
       "      <td>0.003341</td>\n",
       "      <td>0.036593</td>\n",
       "      <td>0.018520</td>\n",
       "      <td>1.000000</td>\n",
       "      <td>-0.009990</td>\n",
       "      <td>-0.000004</td>\n",
       "      <td>0.014082</td>\n",
       "      <td>-0.034821</td>\n",
       "      <td>-0.014717</td>\n",
       "    </tr>\n",
       "    <tr>\n",
       "      <th>country</th>\n",
       "      <td>-0.025490</td>\n",
       "      <td>0.008230</td>\n",
       "      <td>-0.009164</td>\n",
       "      <td>0.011133</td>\n",
       "      <td>0.022488</td>\n",
       "      <td>-0.009990</td>\n",
       "      <td>1.000000</td>\n",
       "      <td>0.060078</td>\n",
       "      <td>0.048569</td>\n",
       "      <td>-0.074788</td>\n",
       "      <td>0.070519</td>\n",
       "    </tr>\n",
       "    <tr>\n",
       "      <th>gross</th>\n",
       "      <td>0.005639</td>\n",
       "      <td>-0.181906</td>\n",
       "      <td>-0.244101</td>\n",
       "      <td>-0.029560</td>\n",
       "      <td>-0.035885</td>\n",
       "      <td>-0.000004</td>\n",
       "      <td>0.060078</td>\n",
       "      <td>1.000000</td>\n",
       "      <td>0.149553</td>\n",
       "      <td>0.262778</td>\n",
       "      <td>0.331004</td>\n",
       "    </tr>\n",
       "    <tr>\n",
       "      <th>company</th>\n",
       "      <td>0.021697</td>\n",
       "      <td>-0.092357</td>\n",
       "      <td>-0.071334</td>\n",
       "      <td>-0.008223</td>\n",
       "      <td>-0.003697</td>\n",
       "      <td>0.014082</td>\n",
       "      <td>0.048569</td>\n",
       "      <td>0.149553</td>\n",
       "      <td>1.000000</td>\n",
       "      <td>-0.023596</td>\n",
       "      <td>0.082449</td>\n",
       "    </tr>\n",
       "    <tr>\n",
       "      <th>released_year</th>\n",
       "      <td>0.023553</td>\n",
       "      <td>0.024610</td>\n",
       "      <td>-0.059834</td>\n",
       "      <td>-0.036288</td>\n",
       "      <td>-0.024382</td>\n",
       "      <td>-0.034821</td>\n",
       "      <td>-0.074788</td>\n",
       "      <td>0.262778</td>\n",
       "      <td>-0.023596</td>\n",
       "      <td>1.000000</td>\n",
       "      <td>0.158884</td>\n",
       "    </tr>\n",
       "    <tr>\n",
       "      <th>is_profitable</th>\n",
       "      <td>-0.015218</td>\n",
       "      <td>-0.078201</td>\n",
       "      <td>-0.058020</td>\n",
       "      <td>-0.020452</td>\n",
       "      <td>-0.010621</td>\n",
       "      <td>-0.014717</td>\n",
       "      <td>0.070519</td>\n",
       "      <td>0.331004</td>\n",
       "      <td>0.082449</td>\n",
       "      <td>0.158884</td>\n",
       "      <td>1.000000</td>\n",
       "    </tr>\n",
       "  </tbody>\n",
       "</table>\n",
       "</div>"
      ],
      "text/plain": [
       "                   name    rating     genre  director    writer      star  \\\n",
       "name           1.000000 -0.029234  0.010996  0.015246  0.012880 -0.006882   \n",
       "rating        -0.029234  1.000000  0.147796  0.014656 -0.003149  0.009196   \n",
       "genre          0.010996  0.147796  1.000000 -0.008553  0.017578  0.003341   \n",
       "director       0.015246  0.014656 -0.008553  1.000000  0.261735  0.036593   \n",
       "writer         0.012880 -0.003149  0.017578  0.261735  1.000000  0.018520   \n",
       "star          -0.006882  0.009196  0.003341  0.036593  0.018520  1.000000   \n",
       "country       -0.025490  0.008230 -0.009164  0.011133  0.022488 -0.009990   \n",
       "gross          0.005639 -0.181906 -0.244101 -0.029560 -0.035885 -0.000004   \n",
       "company        0.021697 -0.092357 -0.071334 -0.008223 -0.003697  0.014082   \n",
       "released_year  0.023553  0.024610 -0.059834 -0.036288 -0.024382 -0.034821   \n",
       "is_profitable -0.015218 -0.078201 -0.058020 -0.020452 -0.010621 -0.014717   \n",
       "\n",
       "                country     gross   company  released_year  is_profitable  \n",
       "name          -0.025490  0.005639  0.021697       0.023553      -0.015218  \n",
       "rating         0.008230 -0.181906 -0.092357       0.024610      -0.078201  \n",
       "genre         -0.009164 -0.244101 -0.071334      -0.059834      -0.058020  \n",
       "director       0.011133 -0.029560 -0.008223      -0.036288      -0.020452  \n",
       "writer         0.022488 -0.035885 -0.003697      -0.024382      -0.010621  \n",
       "star          -0.009990 -0.000004  0.014082      -0.034821      -0.014717  \n",
       "country        1.000000  0.060078  0.048569      -0.074788       0.070519  \n",
       "gross          0.060078  1.000000  0.149553       0.262778       0.331004  \n",
       "company        0.048569  0.149553  1.000000      -0.023596       0.082449  \n",
       "released_year -0.074788  0.262778 -0.023596       1.000000       0.158884  \n",
       "is_profitable  0.070519  0.331004  0.082449       0.158884       1.000000  "
      ]
     },
     "execution_count": 29,
     "metadata": {},
     "output_type": "execute_result"
    }
   ],
   "source": [
    "correlation_matrix = df_copy.corr()\n",
    "correlation_matrix"
   ]
  },
  {
   "cell_type": "code",
   "execution_count": 30,
   "id": "c2271e3a",
   "metadata": {},
   "outputs": [
    {
     "data": {
      "image/png": "[encoded data removed]",
      "text/plain": [
       "<Figure size 864x432 with 2 Axes>"
      ]
     },
     "metadata": {
      "needs_background": "light"
     },
     "output_type": "display_data"
    }
   ],
   "source": [
    "plt.figure(figsize= (12,6))\n",
    "sns.heatmap(correlation_matrix, annot= True)\n",
    "label('Correlation between Categorical Variables and Gross Earnings', 'Categorical Variables', 'Categorical Variables')"
   ]
  },
  {
   "cell_type": "markdown",
   "id": "a191b8a9",
   "metadata": {},
   "source": [
    "#### Budget and Gross "
   ]
  },
  {
   "cell_type": "code",
   "execution_count": 31,
   "id": "5d213cc5",
   "metadata": {},
   "outputs": [
    {
     "data": {
      "image/png": "[encoded data removed]",
      "text/plain": [
       "<Figure size 864x432 with 1 Axes>"
      ]
     },
     "metadata": {
      "needs_background": "light"
     },
     "output_type": "display_data"
    }
   ],
   "source": [
    "plt.figure(figsize= (12,6))\n",
    "plt.scatter(x=df['budget'], y = df['gross'], color= 'red')\n",
    "label('Relationship Between Movie Budgets and Gross Earnings', 'Movie Budgets', 'Gross Earnings')"
   ]
  },
  {
   "cell_type": "code",
   "execution_count": 32,
   "id": "260c3161",
   "metadata": {},
   "outputs": [
    {
     "data": {
      "text/plain": [
       "<AxesSubplot:xlabel='budget', ylabel='gross'>"
      ]
     },
     "execution_count": 32,
     "metadata": {},
     "output_type": "execute_result"
    },
    {
     "data": {
      "image/png": "[encoded data removed]",
      "text/plain": [
       "<Figure size 864x432 with 1 Axes>"
      ]
     },
     "metadata": {
      "needs_background": "light"
     },
     "output_type": "display_data"
    }
   ],
   "source": [
    "#plot budget vs gross using seaborn\n",
    "plt.figure(figsize = (12,6))\n",
    "sns.regplot(x= 'budget', y= 'gross', data= df, scatter_kws= {'color': 'black'}, line_kws={'color' : 'red'})"
   ]
  },
  {
   "cell_type": "markdown",
   "id": "e81b5bbb",
   "metadata": {},
   "source": [
    "The regression line shows positive correlation between budget and gross earnings.\n",
    "Correlation between budget and gross is +0.74 which is very good correlation."
   ]
  },
  {
   "cell_type": "markdown",
   "id": "1e275928",
   "metadata": {},
   "source": [
    "#### Votes and Gross"
   ]
  },
  {
   "cell_type": "code",
   "execution_count": 33,
   "id": "a0ff99a3",
   "metadata": {},
   "outputs": [
    {
     "data": {
      "image/png": "[encoded data removed]",
      "text/plain": [
       "<Figure size 864x432 with 1 Axes>"
      ]
     },
     "metadata": {
      "needs_background": "light"
     },
     "output_type": "display_data"
    }
   ],
   "source": [
    "#plot budget vs gross using seaborn\n",
    "plt.figure(figsize = (12,6))\n",
    "sns.regplot(x= 'votes', y= 'gross', data= df, scatter_kws= {'color': 'black'}, line_kws={'color' : 'red'})\n",
    "label('Correlation between Gross Earnings and Votes', 'Votes', 'Gross Earnings')"
   ]
  },
  {
   "cell_type": "markdown",
   "id": "5e4df8ed",
   "metadata": {},
   "source": [
    "This also confirms the strong correlation between Gross earnings and mbovie votes."
   ]
  },
  {
   "cell_type": "markdown",
   "id": "d8d00c7d",
   "metadata": {},
   "source": [
    "#### Profitable vs Not Profitable Movies"
   ]
  },
  {
   "cell_type": "code",
   "execution_count": 34,
   "id": "1bf76fc5",
   "metadata": {},
   "outputs": [
    {
     "data": {
      "text/html": [
       "<div>\n",
       "<style scoped>\n",
       "    .dataframe tbody tr th:only-of-type {\n",
       "        vertical-align: middle;\n",
       "    }\n",
       "\n",
       "    .dataframe tbody tr th {\n",
       "        vertical-align: top;\n",
       "    }\n",
       "\n",
       "    .dataframe thead th {\n",
       "        text-align: right;\n",
       "    }\n",
       "</style>\n",
       "<table border=\"1\" class=\"dataframe\">\n",
       "  <thead>\n",
       "    <tr style=\"text-align: right;\">\n",
       "      <th></th>\n",
       "      <th>name</th>\n",
       "      <th>rating</th>\n",
       "      <th>genre</th>\n",
       "      <th>score</th>\n",
       "      <th>votes</th>\n",
       "      <th>director</th>\n",
       "      <th>writer</th>\n",
       "      <th>star</th>\n",
       "      <th>country</th>\n",
       "      <th>budget</th>\n",
       "      <th>gross</th>\n",
       "      <th>company</th>\n",
       "      <th>runtime</th>\n",
       "      <th>released_year</th>\n",
       "      <th>is_profitable</th>\n",
       "    </tr>\n",
       "  </thead>\n",
       "  <tbody>\n",
       "    <tr>\n",
       "      <th>5445</th>\n",
       "      <td>Avatar</td>\n",
       "      <td>PG-13</td>\n",
       "      <td>Action</td>\n",
       "      <td>7.8</td>\n",
       "      <td>1100000</td>\n",
       "      <td>James Cameron</td>\n",
       "      <td>James Cameron</td>\n",
       "      <td>Sam Worthington</td>\n",
       "      <td>United States</td>\n",
       "      <td>237000000</td>\n",
       "      <td>2847246203</td>\n",
       "      <td>Twentieth Century Fox</td>\n",
       "      <td>162</td>\n",
       "      <td>2009</td>\n",
       "      <td>Profitable</td>\n",
       "    </tr>\n",
       "    <tr>\n",
       "      <th>7445</th>\n",
       "      <td>Avengers: Endgame</td>\n",
       "      <td>PG-13</td>\n",
       "      <td>Action</td>\n",
       "      <td>8.4</td>\n",
       "      <td>903000</td>\n",
       "      <td>Anthony Russo</td>\n",
       "      <td>Christopher Markus</td>\n",
       "      <td>Robert Downey Jr.</td>\n",
       "      <td>United States</td>\n",
       "      <td>356000000</td>\n",
       "      <td>2797501328</td>\n",
       "      <td>Marvel Studios</td>\n",
       "      <td>181</td>\n",
       "      <td>2019</td>\n",
       "      <td>Profitable</td>\n",
       "    </tr>\n",
       "  </tbody>\n",
       "</table>\n",
       "</div>"
      ],
      "text/plain": [
       "                   name rating   genre  score    votes       director  \\\n",
       "5445             Avatar  PG-13  Action    7.8  1100000  James Cameron   \n",
       "7445  Avengers: Endgame  PG-13  Action    8.4   903000  Anthony Russo   \n",
       "\n",
       "                  writer               star        country     budget  \\\n",
       "5445       James Cameron    Sam Worthington  United States  237000000   \n",
       "7445  Christopher Markus  Robert Downey Jr.  United States  356000000   \n",
       "\n",
       "           gross                company  runtime released_year is_profitable  \n",
       "5445  2847246203  Twentieth Century Fox      162          2009    Profitable  \n",
       "7445  2797501328         Marvel Studios      181          2019    Profitable  "
      ]
     },
     "execution_count": 34,
     "metadata": {},
     "output_type": "execute_result"
    }
   ],
   "source": [
    "df.head(2)"
   ]
  },
  {
   "cell_type": "code",
   "execution_count": 35,
   "id": "8a590f70",
   "metadata": {},
   "outputs": [
    {
     "data": {
      "text/html": [
       "<div>\n",
       "<style scoped>\n",
       "    .dataframe tbody tr th:only-of-type {\n",
       "        vertical-align: middle;\n",
       "    }\n",
       "\n",
       "    .dataframe tbody tr th {\n",
       "        vertical-align: top;\n",
       "    }\n",
       "\n",
       "    .dataframe thead th {\n",
       "        text-align: right;\n",
       "    }\n",
       "</style>\n",
       "<table border=\"1\" class=\"dataframe\">\n",
       "  <thead>\n",
       "    <tr style=\"text-align: right;\">\n",
       "      <th></th>\n",
       "      <th>is_profitable</th>\n",
       "      <th>genre</th>\n",
       "    </tr>\n",
       "  </thead>\n",
       "  <tbody>\n",
       "    <tr>\n",
       "      <th>0</th>\n",
       "      <td>Not Profitable</td>\n",
       "      <td>1744</td>\n",
       "    </tr>\n",
       "    <tr>\n",
       "      <th>1</th>\n",
       "      <td>Profitable</td>\n",
       "      <td>3677</td>\n",
       "    </tr>\n",
       "  </tbody>\n",
       "</table>\n",
       "</div>"
      ],
      "text/plain": [
       "    is_profitable  genre\n",
       "0  Not Profitable   1744\n",
       "1      Profitable   3677"
      ]
     },
     "execution_count": 35,
     "metadata": {},
     "output_type": "execute_result"
    }
   ],
   "source": [
    "profitable = df.groupby('is_profitable').genre.count().reset_index()\n",
    "profitable"
   ]
  },
  {
   "cell_type": "code",
   "execution_count": 36,
   "id": "42464b81",
   "metadata": {},
   "outputs": [
    {
     "data": {
      "image/png": "[encoded data removed]",
      "text/plain": [
       "<Figure size 864x360 with 1 Axes>"
      ]
     },
     "metadata": {
      "needs_background": "light"
     },
     "output_type": "display_data"
    }
   ],
   "source": [
    "plt.figure(figsize= (12,5))\n",
    "sns.barplot(x= 'is_profitable', y= 'genre', data = profitable)\n",
    "label('Spread of Profitable and Non-Profitable Movies', 'Movies', 'Count')"
   ]
  },
  {
   "cell_type": "markdown",
   "id": "226aeecc",
   "metadata": {},
   "source": [
    "#### Genre and Gross Earnings"
   ]
  },
  {
   "cell_type": "code",
   "execution_count": 37,
   "id": "c0720257",
   "metadata": {},
   "outputs": [
    {
     "data": {
      "text/html": [
       "<div>\n",
       "<style scoped>\n",
       "    .dataframe tbody tr th:only-of-type {\n",
       "        vertical-align: middle;\n",
       "    }\n",
       "\n",
       "    .dataframe tbody tr th {\n",
       "        vertical-align: top;\n",
       "    }\n",
       "\n",
       "    .dataframe thead th {\n",
       "        text-align: right;\n",
       "    }\n",
       "</style>\n",
       "<table border=\"1\" class=\"dataframe\">\n",
       "  <thead>\n",
       "    <tr style=\"text-align: right;\">\n",
       "      <th></th>\n",
       "      <th>genre</th>\n",
       "      <th>gross</th>\n",
       "    </tr>\n",
       "  </thead>\n",
       "  <tbody>\n",
       "    <tr>\n",
       "      <th>7</th>\n",
       "      <td>Family</td>\n",
       "      <td>5.185831e+08</td>\n",
       "    </tr>\n",
       "    <tr>\n",
       "      <th>2</th>\n",
       "      <td>Animation</td>\n",
       "      <td>2.811044e+08</td>\n",
       "    </tr>\n",
       "    <tr>\n",
       "      <th>0</th>\n",
       "      <td>Action</td>\n",
       "      <td>1.680232e+08</td>\n",
       "    </tr>\n",
       "    <tr>\n",
       "      <th>1</th>\n",
       "      <td>Adventure</td>\n",
       "      <td>1.332682e+08</td>\n",
       "    </tr>\n",
       "    <tr>\n",
       "      <th>10</th>\n",
       "      <td>Mystery</td>\n",
       "      <td>1.178877e+08</td>\n",
       "    </tr>\n",
       "    <tr>\n",
       "      <th>3</th>\n",
       "      <td>Biography</td>\n",
       "      <td>6.139527e+07</td>\n",
       "    </tr>\n",
       "    <tr>\n",
       "      <th>6</th>\n",
       "      <td>Drama</td>\n",
       "      <td>6.036914e+07</td>\n",
       "    </tr>\n",
       "    <tr>\n",
       "      <th>4</th>\n",
       "      <td>Comedy</td>\n",
       "      <td>5.916766e+07</td>\n",
       "    </tr>\n",
       "    <tr>\n",
       "      <th>9</th>\n",
       "      <td>Horror</td>\n",
       "      <td>5.681695e+07</td>\n",
       "    </tr>\n",
       "    <tr>\n",
       "      <th>5</th>\n",
       "      <td>Crime</td>\n",
       "      <td>5.016958e+07</td>\n",
       "    </tr>\n",
       "    <tr>\n",
       "      <th>13</th>\n",
       "      <td>Thriller</td>\n",
       "      <td>4.248814e+07</td>\n",
       "    </tr>\n",
       "    <tr>\n",
       "      <th>8</th>\n",
       "      <td>Fantasy</td>\n",
       "      <td>3.987870e+07</td>\n",
       "    </tr>\n",
       "    <tr>\n",
       "      <th>12</th>\n",
       "      <td>Sci-Fi</td>\n",
       "      <td>3.761010e+07</td>\n",
       "    </tr>\n",
       "    <tr>\n",
       "      <th>11</th>\n",
       "      <td>Romance</td>\n",
       "      <td>3.357538e+07</td>\n",
       "    </tr>\n",
       "    <tr>\n",
       "      <th>14</th>\n",
       "      <td>Western</td>\n",
       "      <td>1.001294e+07</td>\n",
       "    </tr>\n",
       "  </tbody>\n",
       "</table>\n",
       "</div>"
      ],
      "text/plain": [
       "        genre         gross\n",
       "7      Family  5.185831e+08\n",
       "2   Animation  2.811044e+08\n",
       "0      Action  1.680232e+08\n",
       "1   Adventure  1.332682e+08\n",
       "10    Mystery  1.178877e+08\n",
       "3   Biography  6.139527e+07\n",
       "6       Drama  6.036914e+07\n",
       "4      Comedy  5.916766e+07\n",
       "9      Horror  5.681695e+07\n",
       "5       Crime  5.016958e+07\n",
       "13   Thriller  4.248814e+07\n",
       "8     Fantasy  3.987870e+07\n",
       "12     Sci-Fi  3.761010e+07\n",
       "11    Romance  3.357538e+07\n",
       "14    Western  1.001294e+07"
      ]
     },
     "execution_count": 37,
     "metadata": {},
     "output_type": "execute_result"
    }
   ],
   "source": [
    "genre_group = df.groupby('genre').gross.mean().reset_index()\n",
    "genre_group = genre_group.sort_values(by= 'gross', ascending= False)\n",
    "genre_group"
   ]
  },
  {
   "cell_type": "code",
   "execution_count": 38,
   "id": "da6712a0",
   "metadata": {},
   "outputs": [
    {
     "data": {
      "image/png": "[encoded data removed]",
      "text/plain": [
       "<Figure size 864x432 with 1 Axes>"
      ]
     },
     "metadata": {
      "needs_background": "light"
     },
     "output_type": "display_data"
    }
   ],
   "source": [
    "plt.figure(figsize= (12,6))\n",
    "sns.barplot(x= 'genre', y= 'gross', data= genre_group, palette= 'dark')\n",
    "label('Movie Genre and Average Gross Earnings', 'Movie Genres', 'Average Gross Earning')"
   ]
  },
  {
   "cell_type": "markdown",
   "id": "675d76ab",
   "metadata": {},
   "source": [
    "This viz shows that movies that are in the Family genre generate the most gross earnings, followed by Animation and Action movies."
   ]
  }
 ],
 "metadata": {
  "kernelspec": {
   "display_name": "Python 3 (ipykernel)",
   "language": "python",
   "name": "python3"
  },
  "language_info": {
   "codemirror_mode": {
    "name": "ipython",
    "version": 3
   },
   "file_extension": ".py",
   "mimetype": "text/x-python",
   "name": "python",
   "nbconvert_exporter": "python",
   "pygments_lexer": "ipython3",
   "version": "3.9.7"
  }
 },
 "nbformat": 4,
 "nbformat_minor": 5
}
